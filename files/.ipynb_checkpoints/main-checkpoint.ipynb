{
 "cells": [
  {
   "cell_type": "code",
   "execution_count": 1,
   "metadata": {
    "slideshow": {
     "slide_type": "skip"
    },
    "tags": []
   },
   "outputs": [],
   "source": [
    "%reload_ext divewidgets "
   ]
  },
  {
   "cell_type": "markdown",
   "metadata": {
    "slideshow": {
     "slide_type": "slide"
    },
    "tags": []
   },
   "source": [
    "# DIVE: Make Online Learning<br> **D**iversified, **I**nteractive, **V**ersatile, and **E**ngaging"
   ]
  },
  {
   "cell_type": "markdown",
   "metadata": {},
   "source": [
    "---\n",
    "*Dr. CHAN, Chung  \n",
    "City University of Hong Kong  \n",
    "Joint work with:  \n",
    "Assan Kozhin, Qihang Liang, Glenn Salter, Ruoqin Tang, Chunxiao Ye, Chao Zhao*\n",
    "\n",
    "---"
   ]
  },
  {
   "cell_type": "markdown",
   "metadata": {
    "slideshow": {
     "slide_type": "slide"
    },
    "tags": []
   },
   "source": [
    "## Objective"
   ]
  },
  {
   "cell_type": "markdown",
   "metadata": {
    "tags": []
   },
   "source": [
    "```{important}\n",
    "Encourage students to **DIVE** into a **D**iscovery-**E**nriched **C**urriculum.\n",
    "```"
   ]
  },
  {
   "cell_type": "markdown",
   "metadata": {
    "slideshow": {
     "slide_type": "fragment"
    },
    "tags": []
   },
   "source": [
    "Develop challenging virtual teaching and learning environment that are:"
   ]
  },
  {
   "cell_type": "markdown",
   "metadata": {
    "slideshow": {
     "slide_type": "fragment"
    },
    "tags": []
   },
   "source": [
    "- **D**iversified: allowing students of different backgrounds to explore easily and freely in different ways;"
   ]
  },
  {
   "cell_type": "markdown",
   "metadata": {
    "slideshow": {
     "slide_type": "fragment"
    },
    "tags": []
   },
   "source": [
    "- **I**nteractive: providing helpful guidance and feedback while students explore;"
   ]
  },
  {
   "cell_type": "markdown",
   "metadata": {
    "slideshow": {
     "slide_type": "fragment"
    },
    "tags": []
   },
   "source": [
    "- **V**ersatile: applicable to a variety of courses so students may reuse the same tools to learn different subjects; and"
   ]
  },
  {
   "cell_type": "markdown",
   "metadata": {
    "slideshow": {
     "slide_type": "fragment"
    },
    "tags": []
   },
   "source": [
    "- **E**ngaging: sparking students' interest and helping them excel in the subject beyond what is taught in class."
   ]
  },
  {
   "cell_type": "markdown",
   "metadata": {
    "slideshow": {
     "slide_type": "slide"
    },
    "tags": []
   },
   "source": [
    "## DIVE into Mathematics"
   ]
  },
  {
   "cell_type": "markdown",
   "metadata": {
    "@deathbeds/jupyterlab-fonts": {
     "styles": {
      "": {
       "body[data-jp-deck-mode='presenting'] &": {
        "zoom": "90%"
       }
      }
     }
    },
    "slideshow": {
     "slide_type": "subslide"
    },
    "tags": []
   },
   "source": [
    "### Induce the theorem"
   ]
  },
  {
   "cell_type": "code",
   "execution_count": 2,
   "metadata": {
    "@deathbeds/jupyterlab-fonts": {
     "styles": {
      "": {
       "body[data-jp-deck-mode='presenting'] &": {
        "height": "80.5443603078097%",
        "left": "2.1737356089934887%",
        "position": "fixed",
        "top": "8.698157170340151%",
        "width": "96.02911862777333%"
       }
      }
     }
    },
    "jupyter": {
     "source_hidden": true
    },
    "tags": []
   },
   "outputs": [
    {
     "data": {
      "application/vnd.jupyter.widget-view+json": {
       "model_id": "47682e11bd5444519670e7da25ae55cf",
       "version_major": 2,
       "version_minor": 0
      },
      "text/plain": [
       "JSWidget(value=None, height=500, html='<!DOCTYPE html>\\n<html>\\n    <head>\\n    <style>\\n    html, body {\\n   …"
      ]
     },
     "metadata": {},
     "output_type": "display_data"
    }
   ],
   "source": [
    "%%jsxgraph -h 500 -w 500\n",
    "JXG.Options.text.useMathJax = true;\n",
    "var board = JXG.JSXGraph.initBoard('box', {boundingbox: [-1, 15, 17, -3], axis:true, grid:true, showCopyright:false});\n",
    "var a = board.create('slider', [[1, -1], [5,-1], [2, 4, 7]], {name:'a', snapWidth: 0.1});\n",
    "var b = board.create('slider', [[8, -1], [12,-1], [2, 3, 7]], {name:'b', snapWidth: 0.1});\n",
    "\n",
    "var s = board.create('point', [6,6],{face:\"\", withLabel:false});\n",
    "var right_ab = board.create('transform', [()=>a.Value()+b.Value(),0], {type:'translate'});\n",
    "var right_a = board.create('transform', [()=>a.Value(),0], {type:'translate'});\n",
    "var right_b = board.create('transform', [()=>b.Value(),0], {type:'translate'});\n",
    "var left_a = board.create('transform', [()=> -a.Value(),0], {type:'translate'});\n",
    "var left_b = board.create('transform', [()=> -b.Value(),0], {type:'translate'});\n",
    "var up_ab = board.create('transform', [0,()=>a.Value()+b.Value()], {type:'translate'});\n",
    "var up_a = board.create('transform', [0,()=>a.Value()], {type:'translate'});\n",
    "var up_b = board.create('transform', [0,()=>b.Value()], {type:'translate'});\n",
    "var down_a = board.create('transform', [0,()=> -a.Value()], {type:'translate'});\n",
    "var down_b = board.create('transform', [0,()=> -b.Value()], {type:'translate'});\n",
    "var no_move = board.create('transform', [0,0], {type:'translate'});\n",
    "\n",
    "\n",
    "var tri1 = [];\n",
    "tri1[0] = board.create('point', [s, up_b], {visible: true, size:2, name:'A', label:{offset:[-10,10]}});\n",
    "tri1[1] = board.create('point', [tri1[0], down_b], {visible: true, size:2, name:'C', label:{offset:[-10,-10]}});\n",
    "tri1[2] = board.create('point', [tri1[0], [down_b,right_a]], {visible: true, size:2, name:'B', label:{offset:[10,0]}});\n",
    "var po1 = board.create('polygon',[tri1[0], tri1[1],tri1[2]], \n",
    "                        {withLines: true, fillColor:'none', highlightFillColor:'none',\n",
    "                         vertices:{face:'', withLabel: false},\n",
    "                         borders: {strokeWidth:1, strokeColor:'black'}});\n",
    "\n",
    "board.create('segment',[tri1[0],tri1[1]],{strokeWidth:0, withLabel: true, name:'b', label:{offset:[-10, b.Value()/2]}});\n",
    "board.create('segment',[tri1[1],tri1[2]],{strokeWidth:0, withLabel: true, name:'a', label:{offset:[a.Value()/2, -10]}});\n",
    "board.create('segment',[tri1[2],tri1[0]],{strokeWidth:0, withLabel: true, name:'c', label:{offset:[a.Value()/2-10, b.Value()/2-10]}});\n",
    "\n",
    "\n",
    "var po_a = board.create('regularpolygon',[tri1[1],tri1[0],4], \n",
    "                        {withLines: true, fillColor:'red', highlightFillColor:'none',\n",
    "                         vertices:{face:'', withLabel: false},\n",
    "                         borders: {strokeWidth:1, strokeColor:'black'}});\n",
    "\n",
    "var po_b = board.create('regularpolygon',[tri1[2],tri1[1],4], \n",
    "                        {withLines: true, fillColor:'green', highlightFillColor:'none',\n",
    "                         vertices:{face:'', withLabel: false},\n",
    "                         borders: {strokeWidth:1, strokeColor:'black'}});\n",
    "\n",
    "var po_c = board.create('regularpolygon',[tri1[0],tri1[2],4], \n",
    "                        {withLines: true, fillColor:'yellow', highlightFillColor:'none',\n",
    "                         vertices:{face:'', withLabel: false},\n",
    "                         borders: {strokeWidth:1, strokeColor:'black'}});\n",
    "\n",
    "\n",
    "board.create('text',[()=>s.X()+a.Value()/2,()=>s.Y()-a.Value()/2,function(){\n",
    "        return (po_b.Area()).toFixed(2);\n",
    "    }],{anchorX: 'middle', anchorY: 'auto'});\n",
    "\n",
    "board.create('text',[()=>s.X()-b.Value()/2,()=>s.Y()+b.Value()/2,function(){\n",
    "        return (po_a.Area()).toFixed(2);\n",
    "    }],{anchorX: 'middle', anchorY: 'auto'});\n",
    "    \n",
    "board.create('text',[()=>s.X()+a.Value(),()=>s.Y()+b.Value(),function(){\n",
    "        return (po_c.Area()).toFixed(2);\n",
    "    }],{anchorX: 'middle', anchorY: 'auto'});"
   ]
  },
  {
   "cell_type": "markdown",
   "metadata": {
    "@deathbeds/jupyterlab-fonts": {
     "styles": {
      "": {
       "body[data-jp-deck-mode='presenting'] &": {
        "height": "11.17977566189236%",
        "left": "43.68489583333333%",
        "position": "fixed",
        "top": "12.017790357420656%",
        "width": "54.166666666666664%"
       }
      }
     }
    },
    "tags": []
   },
   "source": [
    "```{admonition} Exercise\n",
    "What is the relationship among the areas $a^2$, $b^2$, and $c^2$?\n",
    "```"
   ]
  },
  {
   "cell_type": "markdown",
   "metadata": {
    "@deathbeds/jupyterlab-fonts": {
     "styles": {
      "": {
       "body[data-jp-deck-mode='presenting'] &": {
        "height": "6.1626091432035635%",
        "left": "43.81510416666667%",
        "position": "fixed",
        "top": "25.817728221193235%",
        "width": "54.036458333333336%"
       }
      }
     }
    },
    "slideshow": {
     "slide_type": "fragment"
    },
    "tags": []
   },
   "source": [
    "$$a^2 + b^2 = c^2$$"
   ]
  },
  {
   "cell_type": "markdown",
   "metadata": {
    "slideshow": {
     "slide_type": "subslide"
    },
    "tags": []
   },
   "source": [
    "### Deduce the theorem"
   ]
  },
  {
   "cell_type": "code",
   "execution_count": 3,
   "metadata": {
    "@deathbeds/jupyterlab-fonts": {
     "styles": {
      "": {
       "body[data-jp-deck-mode='presenting'] &": {
        "height": "71.74539170506912%",
        "left": "1.4599673701267615%",
        "position": "fixed",
        "top": "9.651818106983846%",
        "width": "97.30474494485294%"
       }
      }
     }
    },
    "jupyter": {
     "source_hidden": true
    },
    "slideshow": {
     "slide_type": "fragment"
    },
    "tags": []
   },
   "outputs": [
    {
     "data": {
      "application/vnd.jupyter.widget-view+json": {
       "model_id": "99dece3e520f41f69f69d5a9e92496a1",
       "version_major": 2,
       "version_minor": 0
      },
      "text/plain": [
       "JSWidget(value=None, height=500, html='<!DOCTYPE html>\\n<html>\\n    <head>\\n    <style>\\n    html, body {\\n   …"
      ]
     },
     "metadata": {},
     "output_type": "display_data"
    }
   ],
   "source": [
    "%%jsxgraph -h 500 -w 500\n",
    "JXG.Options.text.useMathJax = true;\n",
    "var board = JXG.JSXGraph.initBoard('box', {boundingbox: [-1, 13, 15, -3], axis:true, showCopyright:false});\n",
    "var a = board.create('slider', [[1, -1], [5,-1], [2, 6, 7]], {name:'a', snapWidth: 0.1});\n",
    "var b = board.create('slider', [[8, -1], [12,-1], [2, 3, 7]], {name:'b', snapWidth: 0.1});\n",
    "var m = board.create('slider', [[1, -2], [12,-2], [0, 0, 2]], {name:'move', snapWidth: 0.1, withLabel:false});\n",
    "board.create('text',[1+m.point2.X(),m.point2.Y(),\"move\"],{fixed: true, anchorX: 'middle'});\n",
    "var s = board.create('point', [1,1],{face:\"\", withLabel:false});\n",
    "var right_ab = board.create('transform', [()=>a.Value()+b.Value(),0], {type:'translate'});\n",
    "var right_a = board.create('transform', [()=>a.Value(),0], {type:'translate'});\n",
    "var right_b = board.create('transform', [()=>b.Value(),0], {type:'translate'});\n",
    "var left_a = board.create('transform', [()=> -a.Value(),0], {type:'translate'});\n",
    "var left_b = board.create('transform', [()=> -b.Value(),0], {type:'translate'});\n",
    "var up_ab = board.create('transform', [0,()=>a.Value()+b.Value()], {type:'translate'});\n",
    "var up_a = board.create('transform', [0,()=>a.Value()], {type:'translate'});\n",
    "var up_b = board.create('transform', [0,()=>b.Value()], {type:'translate'});\n",
    "var down_a = board.create('transform', [0,()=> -a.Value()], {type:'translate'});\n",
    "var down_b = board.create('transform', [0,()=> -b.Value()], {type:'translate'});\n",
    "var no_move = board.create('transform', [0,0], {type:'translate'});\n",
    "\n",
    "\n",
    "var r2 = board.create('point', [s,right_ab], {visible: false});\n",
    "var po0 =  board.create('regularpolygon',[s,r2,4], \n",
    "                        {withLines: true, fillColor:'none', highlightFillColor:'none',\n",
    "                         vertices:{face:'', withLabel: false},\n",
    "                         borders: {strokeWidth:1, strokeColor:'black'}});\n",
    "\n",
    "var tri1 = [];\n",
    "tri1[0] = board.create('point', [s, up_b], {visible: false});\n",
    "tri1[1] = board.create('point', [tri1[0], down_b], {visible: false});\n",
    "tri1[2] = board.create('point', [tri1[0], [down_b,right_a]], {visible: false});\n",
    "var po1 = board.create('polygon',[tri1[0],tri1[1],tri1[2]], \n",
    "                        {withLines: true, fillColor:'red', highlightFillColor:'none',\n",
    "                         vertices:{face:'', withLabel: false},\n",
    "                         borders: {strokeWidth:1, strokeColor:'black'}});\n",
    "\n",
    "board.create('segment',[tri1[0],tri1[1]],{strokeWidth:0, withLabel: true, name:'b', label:{offset:[-10, b.Value()/2]}});\n",
    "board.create('segment',[tri1[1],tri1[2]],{strokeWidth:0, withLabel: true, name:'a', label:{offset:[a.Value()/2, -10]}});\n",
    "board.create('segment',[tri1[2],tri1[0]],{strokeWidth:0, withLabel: true, name:'c', label:{offset:[a.Value()/2-10, b.Value()/2-10]}});\n",
    "\n",
    "var move_tri2 = board.create('transform', [()=>a.Value(), ()=>b.Value()*(1-Math.min(m.Value(),1))], {type:'translate'});\n",
    "var tri2 = [];\n",
    "tri2[0] = board.create('point', [s, move_tri2], {visible: false});\n",
    "tri2[1] = board.create('point', [tri2[0], right_b], {visible: false});\n",
    "tri2[2] = board.create('point', [tri2[0], [right_b,up_a]], {visible: false});\n",
    "var po2 = board.create('polygon',[tri2[0],tri2[1],tri2[2]], \n",
    "                        {withLines: true, fillColor:'green', highlightFillColor:'none',\n",
    "                         vertices:{face:'', withLabel: false},\n",
    "                         borders: {strokeWidth:1, strokeColor:'black'}});\n",
    "\n",
    "var move_tri3 = board.create('transform', [()=>a.Value()+b.Value()*(Math.max(m.Value(),1)-1), ()=>a.Value()*(Math.max(m.Value(),1)-1)], {type:'translate'});\n",
    "var tri3 = [];\n",
    "tri3[0] = board.create('point', [s, move_tri3], {visible: false});\n",
    "tri3[1] = board.create('point', [tri3[0], up_b], {visible: false});\n",
    "tri3[2] = board.create('point', [tri3[0], [up_b,left_a]], {visible: false});\n",
    "var po3 = board.create('polygon',[tri3[0],tri3[1],tri3[2]], \n",
    "                        {withLines: true, fillColor:'blue', highlightFillColor:'none',\n",
    "                         vertices:{face:'', withLabel: false},\n",
    "                         borders: {strokeWidth:1, strokeColor:'black'}});\n",
    "\n",
    "\n",
    "var move_tri4 = board.create('transform', [()=>b.Value()+a.Value()*(1-Math.min(m.Value(),1)), ()=>a.Value()+b.Value()], {type:'translate'});\n",
    "var tri4 = [];\n",
    "tri4[0] = board.create('point', [s, move_tri4], {visible: false});\n",
    "tri4[1] = board.create('point', [tri4[0], left_b], {visible: false});\n",
    "tri4[2] = board.create('point', [tri4[0], [left_b,down_a]], {visible: false});\n",
    "var po4 = board.create('polygon',[tri4[0],tri4[1],tri4[2]], \n",
    "                        {withLines: true, fillColor:'yellow', highlightFillColor:'none',\n",
    "                         vertices:{face:'', withLabel: false},\n",
    "                         borders: {strokeWidth:1, strokeColor:'black'}});\n",
    "\n",
    "board.create('text',[()=>s.X()+1/2*a.Value(),()=>s.Y()+b.Value()+1/2*a.Value(),function(){\n",
    "        return '\\\\[ a^2 \\\\]';\n",
    "    }],{visible: ()=> {return (m.Value()<0.3);}, anchorX: 'middle', anchorY: 'auto'});\n",
    "\n",
    "board.create('text',[()=>s.X()+a.Value()+1/2*b.Value(),()=>s.Y()+1/2*b.Value(),function(){\n",
    "    return '\\\\[b^2\\\\]';\n",
    "    }],{visible: ()=> {return (m.Value()<0.3);}, anchorX: 'middle', anchorY: 'auto'});\n",
    "\n",
    "board.create('text',[()=>s.X()+1/2*(a.Value()+b.Value()),()=>s.Y()+1/2*(a.Value()+b.Value()),function(){\n",
    "    return '\\\\[c^2\\\\]';\n",
    "    }],{visible: ()=> {return (m.Value()>1.9);}, anchorX: 'middle', anchorY: 'auto'});"
   ]
  },
  {
   "cell_type": "markdown",
   "metadata": {
    "@deathbeds/jupyterlab-fonts": {
     "styles": {
      "": {
       "body[data-jp-deck-mode='presenting'] &": {
        "height": "9.895443767495221%",
        "left": "43.9794937769572%",
        "position": "fixed",
        "top": "12.941635265183656%",
        "width": "54.45638100306193%"
       }
      }
     }
    },
    "tags": []
   },
   "source": [
    "```{admonition} Exercise\n",
    "Prove the relationship using the widget.\n",
    "```"
   ]
  },
  {
   "cell_type": "markdown",
   "metadata": {
    "@deathbeds/jupyterlab-fonts": {
     "styles": {
      "": {
       "body[data-jp-deck-mode='presenting'] &": {
        "height": "20.639721332790298%",
        "left": "44.62990196078431%",
        "position": "fixed",
        "top": "33.01971482424875%",
        "width": "53.71732345281863%"
       }
      }
     }
    }
   },
   "source": [
    "As we drag the `move` slider to move the colored triangles:\n",
    "- the total area of of the white squares at the beginning is $a^2 + b^2$, and\n",
    "- the area of the white square at the end is $c^2$.\n",
    "\n",
    "Since the area of the white space in the outer square is preserved, we have $a^2 + b^2 = c^2$ as desired. "
   ]
  },
  {
   "cell_type": "markdown",
   "metadata": {
    "@deathbeds/jupyterlab-fonts": {
     "styles": {
      "": {
       "body[data-jp-deck-mode='presenting'] &": {
        "height": "9.90636685070176%",
        "left": "43.21126540501912%",
        "position": "fixed",
        "top": "70.17634054843555%",
        "width": "55.011395613352455%"
       }
      }
     }
    },
    "slideshow": {
     "slide_type": "fragment"
    },
    "tags": []
   },
   "source": [
    "```{seealso}\n",
    "[DIVE into Math for secondary school students](divemath/divemath.ipynb)\n",
    "```"
   ]
  },
  {
   "cell_type": "markdown",
   "metadata": {
    "slideshow": {
     "slide_type": "subslide"
    },
    "tags": []
   },
   "source": [
    "### Precise theorem statement"
   ]
  },
  {
   "cell_type": "markdown",
   "metadata": {
    "slideshow": {
     "slide_type": "fragment"
    },
    "tags": []
   },
   "source": [
    "---\n",
    "\n",
    "**Theorem** (Pythagoras theorem)\n",
    "\n",
    "Given a right-angled triangle,\n",
    "\n",
    "![Right-angled triangle](pythagoras.dio.svg)\n",
    "\n",
    "the length of the hypotenuse is\n",
    "\n",
    "$$\n",
    "c = \\sqrt{a^2 + b^2}\n",
    "$$\n",
    "\n",
    "where $a$ and $b$ are the lengths of the other sides of the triangle.\n",
    "\n",
    "---"
   ]
  },
  {
   "cell_type": "markdown",
   "metadata": {
    "@deathbeds/jupyterlab-fonts": {
     "styles": {
      "": {
       "body[data-jp-deck-mode='presenting'] &": {
        "height": "6.189196303875948%",
        "left": "3.294934740253523%",
        "position": "fixed",
        "top": "29.197069393691194%",
        "width": "95.03104894301471%"
       }
      }
     }
    },
    "slideshow": {
     "slide_type": "subslide"
    },
    "tags": []
   },
   "source": [
    "### Algebraic proof"
   ]
  },
  {
   "cell_type": "markdown",
   "metadata": {
    "slideshow": {
     "slide_type": "skip"
    },
    "tags": []
   },
   "source": [
    "---"
   ]
  },
  {
   "cell_type": "markdown",
   "metadata": {
    "@deathbeds/jupyterlab-fonts": {
     "styles": {
      "": {
       "body[data-jp-deck-mode='presenting'] &": {
        "height": "32.00685000090006%",
        "left": "3.294934740253523%",
        "position": "fixed",
        "top": "37.11917718984015%",
        "width": "95.22712737438725%"
       }
      }
     }
    },
    "slideshow": {
     "slide_type": "fragment"
    },
    "tags": []
   },
   "source": [
    "![Proof](pythagoras-proof.dio.svg)"
   ]
  },
  {
   "cell_type": "markdown",
   "metadata": {
    "@deathbeds/jupyterlab-fonts": {
     "styles": {
      "": {
       "body[data-jp-deck-mode='presenting'] &": {
        "height": "22.22542242703533%",
        "left": "24.337419098498774%",
        "position": "fixed",
        "top": "39.82334869431644%",
        "width": "70.42156862745098%"
       }
      }
     }
    },
    "slideshow": {
     "slide_type": "fragment"
    },
    "tags": []
   },
   "source": [
    "By equating the area of the outer square to the area of the inner triangles and square,\n",
    "\n",
    "$$\n",
    "\\begin{align*}\n",
    "(a + b)^2 &= \\overbrace{\\frac{1}{2}ab}^{\\text{Area of a triangle}} \\cdot 4 + c^2,\n",
    "\\end{align*}\n",
    "$$\n",
    "\n",
    "which simplifies $a^2 + b^2 = c^2$. Since $c>0$, we have $c = \\sqrt{a^2 + b^2}$ as desired."
   ]
  },
  {
   "cell_type": "markdown",
   "metadata": {
    "slideshow": {
     "slide_type": "skip"
    },
    "tags": []
   },
   "source": [
    "---"
   ]
  },
  {
   "cell_type": "markdown",
   "metadata": {
    "slideshow": {
     "slide_type": "slide"
    },
    "tags": []
   },
   "source": [
    "## DIVE into Programming"
   ]
  },
  {
   "cell_type": "markdown",
   "metadata": {
    "slideshow": {
     "slide_type": "subslide"
    },
    "tags": []
   },
   "source": [
    "### How to write a recursion?"
   ]
  },
  {
   "cell_type": "markdown",
   "metadata": {
    "slideshow": {
     "slide_type": "fragment"
    },
    "tags": []
   },
   "source": [
    "Two non-negative integers are relatively prime if their greatest common divisor (gcd) is equal to 1."
   ]
  },
  {
   "cell_type": "markdown",
   "metadata": {
    "slideshow": {
     "slide_type": "fragment"
    },
    "tags": []
   },
   "source": [
    "- 2 and 3 are relatively prime, but"
   ]
  },
  {
   "cell_type": "markdown",
   "metadata": {
    "slideshow": {
     "slide_type": "fragment"
    },
    "tags": []
   },
   "source": [
    "- 2 and 4 are not relatively prime because their gcd is 2."
   ]
  },
  {
   "cell_type": "markdown",
   "metadata": {
    "slideshow": {
     "slide_type": "subslide"
    },
    "tags": []
   },
   "source": [
    "The following is an implementation using recursion:"
   ]
  },
  {
   "cell_type": "code",
   "execution_count": 4,
   "metadata": {},
   "outputs": [],
   "source": [
    "def rel_prime(a, b):\n",
    "    return rel_prime(b % a, a) if a else b == 1"
   ]
  },
  {
   "cell_type": "markdown",
   "metadata": {
    "slideshow": {
     "slide_type": "fragment"
    },
    "tags": []
   },
   "source": [
    "```{admonition} Exercise\n",
    "Apply `rel_prime` to different values of `a` and `b`.\n",
    "```"
   ]
  },
  {
   "cell_type": "code",
   "execution_count": 5,
   "metadata": {
    "slideshow": {
     "slide_type": "fragment"
    },
    "tags": []
   },
   "outputs": [
    {
     "data": {
      "text/plain": [
       "(True, False)"
      ]
     },
     "execution_count": 5,
     "metadata": {},
     "output_type": "execute_result"
    }
   ],
   "source": [
    "rel_prime(2, 3), rel_prime(2, 4)"
   ]
  },
  {
   "cell_type": "markdown",
   "metadata": {
    "slideshow": {
     "slide_type": "subslide"
    },
    "tags": []
   },
   "source": [
    "### How does the recursion work?"
   ]
  },
  {
   "cell_type": "markdown",
   "metadata": {
    "slideshow": {
     "slide_type": "fragment"
    },
    "tags": []
   },
   "source": [
    "---\n",
    "\n",
    "**Theorem** (Euclid's algorithm)\n",
    "\n",
    "The greatest common divisor $f(a, b)$ for non-negative integers $a$ and $b$ satisfies the recurrence equation\n",
    "\n",
    "$$\n",
    "f(a, b) = \n",
    "\\begin{cases}\n",
    "f(b\\mod a, a) & \\text{if $b>0$}\\\\\n",
    "a & \\text{if $b=0$.}\n",
    "\\end{cases}\n",
    "$$\n",
    "\n",
    "---"
   ]
  },
  {
   "cell_type": "markdown",
   "metadata": {
    "slideshow": {
     "slide_type": "fragment"
    },
    "tags": []
   },
   "source": [
    "```{admonition} Exercise\n",
    "\n",
    "Give the recurrence equation for a function $f(a, b)$ that checks whether the non-negative integers $a$ and $b$ are relatively prime.\n",
    "\n",
    "```"
   ]
  },
  {
   "cell_type": "markdown",
   "metadata": {
    "slideshow": {
     "slide_type": "fragment"
    },
    "tags": []
   },
   "source": [
    "$$\n",
    "f(a, b) = \n",
    "\\begin{cases}\n",
    "f(b\\mod a, a) & \\text{if $b>0$}\\\\\n",
    "\\text{True} & \\text{if $b=0$ and $a = 1$}\\\\\n",
    "\\text{False} & \\text{if $b=0$ and $a \\neq 1$.}\\\\\n",
    "\\end{cases}\n",
    "$$"
   ]
  },
  {
   "cell_type": "markdown",
   "metadata": {
    "slideshow": {
     "slide_type": "subslide"
    },
    "tags": []
   },
   "source": [
    "### How is the recursion executed?"
   ]
  },
  {
   "cell_type": "code",
   "execution_count": 6,
   "metadata": {
    "slideshow": {
     "slide_type": "fragment"
    },
    "tags": []
   },
   "outputs": [
    {
     "data": {
      "application/vnd.jupyter.widget-view+json": {
       "model_id": "0f9c7878d8cd40b0aa363847079b1c78",
       "version_major": 2,
       "version_minor": 0
      },
      "text/plain": [
       "OPTWidget(value=None, height=500, script='def rel_prime(a, b):\\n    return rel_prime(b % a, a) if a else b == …"
      ]
     },
     "metadata": {},
     "output_type": "display_data"
    }
   ],
   "source": [
    "%%optlite -h 500 -l\n",
    "def rel_prime(a, b):\n",
    "    return rel_prime(b % a, a) if a else b == 1\n",
    "\n",
    "ans = rel_prime(2, 3)"
   ]
  },
  {
   "cell_type": "markdown",
   "metadata": {
    "slideshow": {
     "slide_type": "subslide"
    },
    "tags": []
   },
   "source": [
    "The following code checks if a non-empty sequence of non-negative numbers are relatively prime."
   ]
  },
  {
   "cell_type": "code",
   "execution_count": 7,
   "metadata": {
    "jupyter": {
     "source_hidden": true
    },
    "tags": []
   },
   "outputs": [
    {
     "data": {
      "application/vnd.jupyter.widget-view+json": {
       "model_id": "b4ecb8f3d1484b80bc9e078985acfb24",
       "version_major": 2,
       "version_minor": 0
      },
      "text/plain": [
       "OPTWidget(value=None, height=450, script='def rel_prime(a, *b):\\n    if not b:\\n        return a == 1\\n    if …"
      ]
     },
     "metadata": {},
     "output_type": "display_data"
    }
   ],
   "source": [
    "%%optlite -h 450\n",
    "def rel_prime(a, *b):\n",
    "    if not b:\n",
    "        return a == 1\n",
    "    if not a:\n",
    "        return rel_prime(*b)\n",
    "    return rel_prime(b[0] % a, a, *b[1:])\n",
    "\n",
    "print(rel_prime(2, 3, 2))"
   ]
  },
  {
   "cell_type": "markdown",
   "metadata": {
    "slideshow": {
     "slide_type": "fragment"
    },
    "tags": []
   },
   "source": [
    "```{admonition} Exercise\n",
    "At step 10 of the Execution, the program should have returned True immediately. (Why?) Improve the code to achieve this by addition adding one more base case.\n",
    "```"
   ]
  },
  {
   "cell_type": "markdown",
   "metadata": {
    "slideshow": {
     "slide_type": "fragment"
    },
    "tags": []
   },
   "source": [
    "[Solution Permalink](https://dive4dec.github.io/optlite/#code=def%20rel_prime%28a,%20*b%29%3A%0A%20%20%20%20%23%23%23%20BEGIN%20SOLUTION%0A%20%20%20%20if%20a%20%3D%3D%201%3A%0A%20%20%20%20%20%20%20%20return%20True%0A%20%20%20%20%23%23%23%20END%20SOLUTION%0A%20%20%20%20if%20not%20b%3A%0A%20%20%20%20%20%20%20%20return%20a%20%3D%3D%201%0A%20%20%20%20if%20not%20a%3A%0A%20%20%20%20%20%20%20%20return%20rel_prime%28*b%29%0A%20%20%20%20return%20rel_prime%28b%5B0%5D%20%25%20a,%20a,%20*b%5B1%3A%5D%29&mode=edit&origin=opt-frontend.js&rawInputLstJSON=%5B%5D&testCasesJSON=%5B%22assert%20rel_prime%282,%203,%202%29%22%5D)"
   ]
  },
  {
   "cell_type": "markdown",
   "metadata": {
    "slideshow": {
     "slide_type": "subslide"
    },
    "tags": []
   },
   "source": [
    "```{seealso}\n",
    "- [Introductory programming with engineering applications](https://github.com/dive4dec/cs1302)\n",
    "- [Graduate-level data mining](https://www.cs.cityu.edu.hk/~ccha23/cs5483book)\n",
    "- [Mutual information in machine learning for researchers](https://www.cs.cityu.edu.hk/~ccha23/miml)\n",
    "- [Deep learning for secondary school students](https://www.cs.cityu.edu.hk/~ccha23/deepbook)\n",
    "- [DIVE into Math for secondary school students](divemath/divemath.ipynb)\n",
    "```"
   ]
  }
 ],
 "metadata": {
  "kernelspec": {
   "display_name": "Python 3 (ipykernel)",
   "language": "python",
   "name": "python3"
  },
  "language_info": {
   "codemirror_mode": {
    "name": "ipython",
    "version": 3
   },
   "file_extension": ".py",
   "mimetype": "text/x-python",
   "name": "python",
   "nbconvert_exporter": "python",
   "pygments_lexer": "ipython3",
   "version": "3.10.8"
  },
  "widgets": {
   "application/vnd.jupyter.widget-state+json": {
    "state": {
     "0f9c7878d8cd40b0aa363847079b1c78": {
      "model_module": "jupyter-divewidgets",
      "model_module_version": "^0.1.5",
      "model_name": "OPTWidgetModel",
      "state": {
       "_model_module_version": "^0.1.5",
       "_model_name": "OPTWidgetModel",
       "_view_module_version": "^0.1.5",
       "_view_name": "OPTWidgetView",
       "height": 500,
       "layout": "IPY_MODEL_b787f3a464104b859d47321570ed85d3",
       "script": "def rel_prime(a, b):\n    return rel_prime(b % a, a) if a else b == 1\n\nans = rel_prime(2, 3)\n",
       "srcprefix": "https://dive4dec.github.io/optlite/live.html#code=",
       "width": 1100
      }
     },
     "3c016b81e46b48aca758f85aab4a685b": {
      "model_module": "@jupyter-widgets/base",
      "model_module_version": "1.2.0",
      "model_name": "LayoutModel",
      "state": {}
     },
     "47682e11bd5444519670e7da25ae55cf": {
      "model_module": "jupyter-divewidgets",
      "model_module_version": "^0.1.5",
      "model_name": "JSWidgetModel",
      "state": {
       "_model_module_version": "^0.1.5",
       "_view_module_version": "^0.1.5",
       "height": 500,
       "html": "<!DOCTYPE html>\n<html>\n    <head>\n    <style>\n    html, body {\n        height: 100%;\n    }\n    body {\n        width: 100%;\n        display: flex;\n        padding: 0;\n        margin: 0;\n    }\n    .jxgbox {\n        width:100%; \n        flex-grow: 1;\n    }\n    </style>\n    <link rel=\"stylesheet\" type=\"text/css\" href=\"https://jsxgraph.org/distrib/jsxgraph.css\" />\n    <script type=\"text/javascript\" src=\"https://cdn.jsdelivr.net/npm/jsxgraph/distrib/jsxgraphcore.js\"></script>\n    <script type=\"text/javascript\" src=\"https://cdn.jsdelivr.net/npm/mathjax@3/es5/tex-chtml.js\"></script>\n    </head>\n<body>\n<div id=\"box\" class=\"jxgbox\"></div>\n</body>\n</html>",
       "js": "JXG.Options.text.useMathJax = true;\nvar board = JXG.JSXGraph.initBoard('box', {boundingbox: [-1, 15, 17, -3], axis:true, grid:true, showCopyright:false});\nvar a = board.create('slider', [[1, -1], [5,-1], [2, 4, 7]], {name:'a', snapWidth: 0.1});\nvar b = board.create('slider', [[8, -1], [12,-1], [2, 3, 7]], {name:'b', snapWidth: 0.1});\n\nvar s = board.create('point', [6,6],{face:\"\", withLabel:false});\nvar right_ab = board.create('transform', [()=>a.Value()+b.Value(),0], {type:'translate'});\nvar right_a = board.create('transform', [()=>a.Value(),0], {type:'translate'});\nvar right_b = board.create('transform', [()=>b.Value(),0], {type:'translate'});\nvar left_a = board.create('transform', [()=> -a.Value(),0], {type:'translate'});\nvar left_b = board.create('transform', [()=> -b.Value(),0], {type:'translate'});\nvar up_ab = board.create('transform', [0,()=>a.Value()+b.Value()], {type:'translate'});\nvar up_a = board.create('transform', [0,()=>a.Value()], {type:'translate'});\nvar up_b = board.create('transform', [0,()=>b.Value()], {type:'translate'});\nvar down_a = board.create('transform', [0,()=> -a.Value()], {type:'translate'});\nvar down_b = board.create('transform', [0,()=> -b.Value()], {type:'translate'});\nvar no_move = board.create('transform', [0,0], {type:'translate'});\n\n\nvar tri1 = [];\ntri1[0] = board.create('point', [s, up_b], {visible: true, size:2, name:'A', label:{offset:[-10,10]}});\ntri1[1] = board.create('point', [tri1[0], down_b], {visible: true, size:2, name:'C', label:{offset:[-10,-10]}});\ntri1[2] = board.create('point', [tri1[0], [down_b,right_a]], {visible: true, size:2, name:'B', label:{offset:[10,0]}});\nvar po1 = board.create('polygon',[tri1[0], tri1[1],tri1[2]], \n                        {withLines: true, fillColor:'none', highlightFillColor:'none',\n                         vertices:{face:'', withLabel: false},\n                         borders: {strokeWidth:1, strokeColor:'black'}});\n\nboard.create('segment',[tri1[0],tri1[1]],{strokeWidth:0, withLabel: true, name:'b', label:{offset:[-10, b.Value()/2]}});\nboard.create('segment',[tri1[1],tri1[2]],{strokeWidth:0, withLabel: true, name:'a', label:{offset:[a.Value()/2, -10]}});\nboard.create('segment',[tri1[2],tri1[0]],{strokeWidth:0, withLabel: true, name:'c', label:{offset:[a.Value()/2-10, b.Value()/2-10]}});\n\n\nvar po_a = board.create('regularpolygon',[tri1[1],tri1[0],4], \n                        {withLines: true, fillColor:'red', highlightFillColor:'none',\n                         vertices:{face:'', withLabel: false},\n                         borders: {strokeWidth:1, strokeColor:'black'}});\n\nvar po_b = board.create('regularpolygon',[tri1[2],tri1[1],4], \n                        {withLines: true, fillColor:'green', highlightFillColor:'none',\n                         vertices:{face:'', withLabel: false},\n                         borders: {strokeWidth:1, strokeColor:'black'}});\n\nvar po_c = board.create('regularpolygon',[tri1[0],tri1[2],4], \n                        {withLines: true, fillColor:'yellow', highlightFillColor:'none',\n                         vertices:{face:'', withLabel: false},\n                         borders: {strokeWidth:1, strokeColor:'black'}});\n\n\nboard.create('text',[()=>s.X()+a.Value()/2,()=>s.Y()-a.Value()/2,function(){\n        return (po_b.Area()).toFixed(2);\n    }],{anchorX: 'middle', anchorY: 'auto'});\n\nboard.create('text',[()=>s.X()-b.Value()/2,()=>s.Y()+b.Value()/2,function(){\n        return (po_a.Area()).toFixed(2);\n    }],{anchorX: 'middle', anchorY: 'auto'});\n    \nboard.create('text',[()=>s.X()+a.Value(),()=>s.Y()+b.Value(),function(){\n        return (po_c.Area()).toFixed(2);\n    }],{anchorX: 'middle', anchorY: 'auto'});",
       "layout": "IPY_MODEL_62f6ff2d47d44aa2b781da64d5afdedd",
       "width": 500
      }
     },
     "62f6ff2d47d44aa2b781da64d5afdedd": {
      "model_module": "@jupyter-widgets/base",
      "model_module_version": "1.2.0",
      "model_name": "LayoutModel",
      "state": {}
     },
     "7de118926af34abcae814bf4a1c76fcf": {
      "model_module": "@jupyter-widgets/base",
      "model_module_version": "1.2.0",
      "model_name": "LayoutModel",
      "state": {}
     },
     "99dece3e520f41f69f69d5a9e92496a1": {
      "model_module": "jupyter-divewidgets",
      "model_module_version": "^0.1.5",
      "model_name": "JSWidgetModel",
      "state": {
       "_model_module_version": "^0.1.5",
       "_view_module_version": "^0.1.5",
       "height": 500,
       "html": "<!DOCTYPE html>\n<html>\n    <head>\n    <style>\n    html, body {\n        height: 100%;\n    }\n    body {\n        width: 100%;\n        display: flex;\n        padding: 0;\n        margin: 0;\n    }\n    .jxgbox {\n        width:100%; \n        flex-grow: 1;\n    }\n    </style>\n    <link rel=\"stylesheet\" type=\"text/css\" href=\"https://jsxgraph.org/distrib/jsxgraph.css\" />\n    <script type=\"text/javascript\" src=\"https://cdn.jsdelivr.net/npm/jsxgraph/distrib/jsxgraphcore.js\"></script>\n    <script type=\"text/javascript\" src=\"https://cdn.jsdelivr.net/npm/mathjax@3/es5/tex-chtml.js\"></script>\n    </head>\n<body>\n<div id=\"box\" class=\"jxgbox\"></div>\n</body>\n</html>",
       "js": "JXG.Options.text.useMathJax = true;\nvar board = JXG.JSXGraph.initBoard('box', {boundingbox: [-1, 13, 15, -3], axis:true, showCopyright:false});\nvar a = board.create('slider', [[1, -1], [5,-1], [2, 6, 7]], {name:'a', snapWidth: 0.1});\nvar b = board.create('slider', [[8, -1], [12,-1], [2, 3, 7]], {name:'b', snapWidth: 0.1});\nvar m = board.create('slider', [[1, -2], [12,-2], [0, 0, 2]], {name:'move', snapWidth: 0.1, withLabel:false});\nboard.create('text',[1+m.point2.X(),m.point2.Y(),\"move\"],{fixed: true, anchorX: 'middle'});\nvar s = board.create('point', [1,1],{face:\"\", withLabel:false});\nvar right_ab = board.create('transform', [()=>a.Value()+b.Value(),0], {type:'translate'});\nvar right_a = board.create('transform', [()=>a.Value(),0], {type:'translate'});\nvar right_b = board.create('transform', [()=>b.Value(),0], {type:'translate'});\nvar left_a = board.create('transform', [()=> -a.Value(),0], {type:'translate'});\nvar left_b = board.create('transform', [()=> -b.Value(),0], {type:'translate'});\nvar up_ab = board.create('transform', [0,()=>a.Value()+b.Value()], {type:'translate'});\nvar up_a = board.create('transform', [0,()=>a.Value()], {type:'translate'});\nvar up_b = board.create('transform', [0,()=>b.Value()], {type:'translate'});\nvar down_a = board.create('transform', [0,()=> -a.Value()], {type:'translate'});\nvar down_b = board.create('transform', [0,()=> -b.Value()], {type:'translate'});\nvar no_move = board.create('transform', [0,0], {type:'translate'});\n\n\nvar r2 = board.create('point', [s,right_ab], {visible: false});\nvar po0 =  board.create('regularpolygon',[s,r2,4], \n                        {withLines: true, fillColor:'none', highlightFillColor:'none',\n                         vertices:{face:'', withLabel: false},\n                         borders: {strokeWidth:1, strokeColor:'black'}});\n\nvar tri1 = [];\ntri1[0] = board.create('point', [s, up_b], {visible: false});\ntri1[1] = board.create('point', [tri1[0], down_b], {visible: false});\ntri1[2] = board.create('point', [tri1[0], [down_b,right_a]], {visible: false});\nvar po1 = board.create('polygon',[tri1[0],tri1[1],tri1[2]], \n                        {withLines: true, fillColor:'red', highlightFillColor:'none',\n                         vertices:{face:'', withLabel: false},\n                         borders: {strokeWidth:1, strokeColor:'black'}});\n\nboard.create('segment',[tri1[0],tri1[1]],{strokeWidth:0, withLabel: true, name:'b', label:{offset:[-10, b.Value()/2]}});\nboard.create('segment',[tri1[1],tri1[2]],{strokeWidth:0, withLabel: true, name:'a', label:{offset:[a.Value()/2, -10]}});\nboard.create('segment',[tri1[2],tri1[0]],{strokeWidth:0, withLabel: true, name:'c', label:{offset:[a.Value()/2-10, b.Value()/2-10]}});\n\nvar move_tri2 = board.create('transform', [()=>a.Value(), ()=>b.Value()*(1-Math.min(m.Value(),1))], {type:'translate'});\nvar tri2 = [];\ntri2[0] = board.create('point', [s, move_tri2], {visible: false});\ntri2[1] = board.create('point', [tri2[0], right_b], {visible: false});\ntri2[2] = board.create('point', [tri2[0], [right_b,up_a]], {visible: false});\nvar po2 = board.create('polygon',[tri2[0],tri2[1],tri2[2]], \n                        {withLines: true, fillColor:'green', highlightFillColor:'none',\n                         vertices:{face:'', withLabel: false},\n                         borders: {strokeWidth:1, strokeColor:'black'}});\n\nvar move_tri3 = board.create('transform', [()=>a.Value()+b.Value()*(Math.max(m.Value(),1)-1), ()=>a.Value()*(Math.max(m.Value(),1)-1)], {type:'translate'});\nvar tri3 = [];\ntri3[0] = board.create('point', [s, move_tri3], {visible: false});\ntri3[1] = board.create('point', [tri3[0], up_b], {visible: false});\ntri3[2] = board.create('point', [tri3[0], [up_b,left_a]], {visible: false});\nvar po3 = board.create('polygon',[tri3[0],tri3[1],tri3[2]], \n                        {withLines: true, fillColor:'blue', highlightFillColor:'none',\n                         vertices:{face:'', withLabel: false},\n                         borders: {strokeWidth:1, strokeColor:'black'}});\n\n\nvar move_tri4 = board.create('transform', [()=>b.Value()+a.Value()*(1-Math.min(m.Value(),1)), ()=>a.Value()+b.Value()], {type:'translate'});\nvar tri4 = [];\ntri4[0] = board.create('point', [s, move_tri4], {visible: false});\ntri4[1] = board.create('point', [tri4[0], left_b], {visible: false});\ntri4[2] = board.create('point', [tri4[0], [left_b,down_a]], {visible: false});\nvar po4 = board.create('polygon',[tri4[0],tri4[1],tri4[2]], \n                        {withLines: true, fillColor:'yellow', highlightFillColor:'none',\n                         vertices:{face:'', withLabel: false},\n                         borders: {strokeWidth:1, strokeColor:'black'}});\n\nboard.create('text',[()=>s.X()+1/2*a.Value(),()=>s.Y()+b.Value()+1/2*a.Value(),function(){\n        return '\\\\[ a^2 \\\\]';\n    }],{visible: ()=> {return (m.Value()<0.3);}, anchorX: 'middle', anchorY: 'auto'});\n\nboard.create('text',[()=>s.X()+a.Value()+1/2*b.Value(),()=>s.Y()+1/2*b.Value(),function(){\n    return '\\\\[b^2\\\\]';\n    }],{visible: ()=> {return (m.Value()<0.3);}, anchorX: 'middle', anchorY: 'auto'});\n\nboard.create('text',[()=>s.X()+1/2*(a.Value()+b.Value()),()=>s.Y()+1/2*(a.Value()+b.Value()),function(){\n    return '\\\\[c^2\\\\]';\n    }],{visible: ()=> {return (m.Value()>1.9);}, anchorX: 'middle', anchorY: 'auto'});",
       "layout": "IPY_MODEL_7de118926af34abcae814bf4a1c76fcf",
       "width": 500
      }
     },
     "b4ecb8f3d1484b80bc9e078985acfb24": {
      "model_module": "jupyter-divewidgets",
      "model_module_version": "^0.1.5",
      "model_name": "OPTWidgetModel",
      "state": {
       "_model_module_version": "^0.1.5",
       "_model_name": "OPTWidgetModel",
       "_view_module_version": "^0.1.5",
       "_view_name": "OPTWidgetView",
       "height": 450,
       "layout": "IPY_MODEL_3c016b81e46b48aca758f85aab4a685b",
       "script": "def rel_prime(a, *b):\n    if not b:\n        return a == 1\n    if not a:\n        return rel_prime(*b)\n    return rel_prime(b[0] % a, a, *b[1:])\n\nprint(rel_prime(2, 3, 2))\n",
       "srcprefix": "https://dive4dec.github.io/optlite/#mode=display&code=",
       "width": 1100
      }
     },
     "b787f3a464104b859d47321570ed85d3": {
      "model_module": "@jupyter-widgets/base",
      "model_module_version": "1.2.0",
      "model_name": "LayoutModel",
      "state": {}
     }
    },
    "version_major": 2,
    "version_minor": 0
   }
  }
 },
 "nbformat": 4,
 "nbformat_minor": 4
}
